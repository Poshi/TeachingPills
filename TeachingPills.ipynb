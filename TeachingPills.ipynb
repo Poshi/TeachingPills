{
  "nbformat": 4,
  "nbformat_minor": 0,
  "metadata": {
    "colab": {
      "provenance": [],
      "authorship_tag": "ABX9TyPtKQXSJ35FoAITlqarD5/t",
      "include_colab_link": true
    },
    "kernelspec": {
      "name": "python3",
      "display_name": "Python 3"
    },
    "language_info": {
      "name": "python"
    }
  },
  "cells": [
    {
      "cell_type": "markdown",
      "metadata": {
        "id": "view-in-github",
        "colab_type": "text"
      },
      "source": [
        "<a href=\"https://colab.research.google.com/github/Poshi/TeachingPills/blob/main/TeachingPills.ipynb\" target=\"_parent\"><img src=\"https://colab.research.google.com/assets/colab-badge.svg\" alt=\"Open In Colab\"/></a>"
      ]
    },
    {
      "cell_type": "markdown",
      "source": [
        "# Teaching pills\n",
        "\n",
        "This repository will keep some notebooks and files intended to teach some basic programming concepts and a few related subjects.\n",
        "The main language used will be Python with some excursions to other languages.\n",
        "\n",
        "Current requests for information are:\n",
        "* Python related\n",
        "  * Classes\n",
        "    * Functions and methods\n",
        "    * Static and class members\n",
        "  * Code organization: modules\n",
        "    * Special variable `__name__`\n",
        "  * Comprehensions\n",
        "  * Error handling\n",
        "  * Decorators\n",
        "  * Multithreading\n",
        "  * Config files and secrets\n",
        "  * Testing\n",
        "  * Debugging\n",
        "  * Python environments\n",
        "* Non-Python related\n",
        "  * Memory management in SLURM\n",
        "  * `awk` basics\n",
        "  * Efficient but safe hot-fixing/patching\n",
        "  * Git basics: team development and merging code / resolving conflicts\n",
        "  * Advanced bash scripting, function creation and error handling\n",
        "  * Advanced use of IDEs\n",
        "  * How use a GPU cluster\n",
        "\n"
      ],
      "metadata": {
        "id": "zU9kh_Ewz_fc"
      }
    }
  ]
}