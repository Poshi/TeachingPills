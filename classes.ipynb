{
  "nbformat": 4,
  "nbformat_minor": 0,
  "metadata": {
    "colab": {
      "provenance": [],
      "authorship_tag": "ABX9TyMFM1233FDltp0vNtfCd2zD",
      "include_colab_link": true
    },
    "kernelspec": {
      "name": "python3",
      "display_name": "Python 3"
    },
    "language_info": {
      "name": "python"
    }
  },
  "cells": [
    {
      "cell_type": "markdown",
      "metadata": {
        "id": "view-in-github",
        "colab_type": "text"
      },
      "source": [
        "<a href=\"https://colab.research.google.com/github/Poshi/TeachingPills/blob/main/classes.ipynb\" target=\"_parent\"><img src=\"https://colab.research.google.com/assets/colab-badge.svg\" alt=\"Open In Colab\"/></a>"
      ]
    },
    {
      "cell_type": "markdown",
      "source": [
        "# Classes\n",
        "\n",
        "In this notebook, we will explore the concept of classes in the Object Oriented Programming paradigm (OOP).\n",
        "\n",
        "Classes are just a way to encapsulate information in a somehow logical way.\n",
        "\n",
        "Let's say that we want to model some animals. All animals have mass, so we can have a `weigth` variable to keep that information. Maybe we can also give them a `name`:"
      ],
      "metadata": {
        "id": "vNno-Twy4ge7"
      }
    },
    {
      "cell_type": "code",
      "execution_count": 29,
      "metadata": {
        "id": "Y6dR2Byb4YSY"
      },
      "outputs": [],
      "source": [
        "weigth = 10  # kg\n",
        "name = \"Perico\""
      ]
    },
    {
      "cell_type": "markdown",
      "source": [
        "We just defined the two attributes an animal will have. They are two *independent* variables that are only linked because we want to, but there's any kind of enforcing by the programming language (PL).\n",
        "\n",
        "Now, what happens if we want to have more than one animal? Thinks start to get messy, as we have to create more variables:"
      ],
      "metadata": {
        "id": "kHSQkljf5Z3F"
      }
    },
    {
      "cell_type": "code",
      "source": [
        "perico_weigth = 10\n",
        "perico_name = \"Perico\"\n",
        "juanito_weight = 5\n",
        "juanito_name = \"Juanito\""
      ],
      "metadata": {
        "id": "NeQwMmLl56A6"
      },
      "execution_count": 30,
      "outputs": []
    },
    {
      "cell_type": "markdown",
      "source": [
        "You can see that, in this way, things can get quickly out of hands, as there's no relation between the variables and using the wrong variable will be far too easy.\n",
        "But there's more. Let's say that Perico is a pig, Juanito is a chicken and we are running a barn.\n",
        "When we want to sell them, we will get some money according to their weight."
      ],
      "metadata": {
        "id": "9KpCILRK6brd"
      }
    },
    {
      "cell_type": "code",
      "source": [
        "pig_price = 15  # €/Kg\n",
        "chicken_price = 7"
      ],
      "metadata": {
        "id": "uT9ruhrj7Oth"
      },
      "execution_count": 31,
      "outputs": []
    },
    {
      "cell_type": "markdown",
      "source": [
        "Again, we can see that there's a total disconnection between the prices and the previous variables. Just by looking at the code, you don't know  who is a pig and who is a chicken, so you don't know how to compute the prices of Perico and Juanito.\n",
        "\n",
        "I hope you start to see the issues in all of this.\n",
        "\n",
        "One of the solutions to these problems are *classes*."
      ],
      "metadata": {
        "id": "RSTK-5n87d1l"
      }
    },
    {
      "cell_type": "markdown",
      "source": [
        "## What is a class?\n",
        "\n",
        "A class is a way to group related information under a single umbrella. You can define a class called Pig that contains the name and the weigth of some abstract pig. The same for the chicken."
      ],
      "metadata": {
        "id": "NGrYueEe76rw"
      }
    },
    {
      "cell_type": "code",
      "source": [
        "class Pig:\n",
        "  def __init__(self, name, weigth):\n",
        "    self.name = name\n",
        "    self.weigth = weigth"
      ],
      "metadata": {
        "id": "Ysbvp80N8X99"
      },
      "execution_count": 32,
      "outputs": []
    },
    {
      "cell_type": "markdown",
      "source": [
        "Here we have a Pig class defined in Python. There are a few elements of interest:\n",
        "* class definition, where you give the name of the class\n",
        "* `__init__` method, that's the constructor. It initializes a particular instance of that class with the provided data. Observe that the first parameter have been called `self`: this represent the particular instance of the class that we are working on and is always the first parameter that the method of the class will receive.\n",
        "* the initialization code, where we transfer the value of the arguments to the class variables thru the dot operator.\n",
        "\n",
        "Creating an instance of that class is very easy:"
      ],
      "metadata": {
        "id": "S-zvo2Wf8g6e"
      }
    },
    {
      "cell_type": "code",
      "source": [
        "perico = Pig(\"Perico\", 10)"
      ],
      "metadata": {
        "id": "cHsFi9rN9wu6"
      },
      "execution_count": 33,
      "outputs": []
    },
    {
      "cell_type": "markdown",
      "source": [
        "Here we created the variable `perico` to be a `Pig`. The arguments given to the creation goes to the constructor (the `__init__` method of the class).\n",
        "\n",
        "Now we have `perico`, which is a `Pig` whose `perico.name` is \"Perico\" and whose `perico.weight` is 10.\n",
        "\n",
        "We can do the same with Juanito:"
      ],
      "metadata": {
        "id": "2Hc4e6cq92Or"
      }
    },
    {
      "cell_type": "code",
      "source": [
        "class Chicken:\n",
        "  def __init__(self, name, weigth):\n",
        "    self.name = name\n",
        "    self.weigth = weigth\n",
        "\n",
        "juanito = Chicken(\"Juanito\", 5)"
      ],
      "metadata": {
        "id": "vyl8KI9W-jbJ"
      },
      "execution_count": 34,
      "outputs": []
    },
    {
      "cell_type": "markdown",
      "source": [
        "At this point, we have the following struncture"
      ],
      "metadata": {
        "id": "I6IygPSdC5ZC"
      }
    },
    {
      "cell_type": "code",
      "source": [
        "!pip install mermaid-py\n",
        "import mermaid as md\n",
        "from mermaid.graph import Graph"
      ],
      "metadata": {
        "colab": {
          "base_uri": "https://localhost:8080/"
        },
        "collapsed": true,
        "id": "QQCGuu7VBM4R",
        "outputId": "72d6db64-c43f-431d-9ee4-32c738c50a4d"
      },
      "execution_count": 35,
      "outputs": [
        {
          "output_type": "stream",
          "name": "stdout",
          "text": [
            "Requirement already satisfied: mermaid-py in /usr/local/lib/python3.12/dist-packages (0.8.0)\n",
            "Requirement already satisfied: requests<3.0.0,>=2.31.0 in /usr/local/lib/python3.12/dist-packages (from mermaid-py) (2.32.4)\n",
            "Requirement already satisfied: charset_normalizer<4,>=2 in /usr/local/lib/python3.12/dist-packages (from requests<3.0.0,>=2.31.0->mermaid-py) (3.4.4)\n",
            "Requirement already satisfied: idna<4,>=2.5 in /usr/local/lib/python3.12/dist-packages (from requests<3.0.0,>=2.31.0->mermaid-py) (3.11)\n",
            "Requirement already satisfied: urllib3<3,>=1.21.1 in /usr/local/lib/python3.12/dist-packages (from requests<3.0.0,>=2.31.0->mermaid-py) (2.5.0)\n",
            "Requirement already satisfied: certifi>=2017.4.17 in /usr/local/lib/python3.12/dist-packages (from requests<3.0.0,>=2.31.0->mermaid-py) (2025.10.5)\n"
          ]
        }
      ]
    },
    {
      "cell_type": "code",
      "source": [
        "\n",
        "md.Mermaid(\"\"\"\n",
        "classDiagram\n",
        "  class Pig{\n",
        "        +name: String\n",
        "        +weight: int\n",
        "    }\n",
        "  class Chicken{\n",
        "        +name: String\n",
        "        +weight: int\n",
        "    }\n",
        "\"\"\")"
      ],
      "metadata": {
        "colab": {
          "base_uri": "https://localhost:8080/",
          "height": 181
        },
        "id": "jgyj7CMxB-_F",
        "outputId": "00c78e9e-d43a-4b30-c5c0-ee3d24c2dbe4"
      },
      "execution_count": 36,
      "outputs": [
        {
          "output_type": "execute_result",
          "data": {
            "text/plain": [
              "<mermaid.__main__.Mermaid at 0x7d33edf68f80>"
            ],
            "text/html": [
              "<svg id=\"mermaidInkSvg\" width=\"100%\" xmlns=\"http://www.w3.org/2000/svg\" class=\"classDiagram\" style=\"max-width: 357.6953125px;\" viewBox=\"0 0 357.6953125 160\" role=\"graphics-document document\" aria-roledescription=\"class\" xmlns:xlink=\"http://www.w3.org/1999/xlink\"><style xmlns=\"http://www.w3.org/1999/xhtml\">@import url(\"https://cdnjs.cloudflare.com/ajax/libs/font-awesome/6.7.2/css/all.min.css\");</style><style>#mermaidInkSvg{font-family:\"trebuchet ms\",verdana,arial,sans-serif;font-size:16px;fill:#333;}@keyframes edge-animation-frame{from{stroke-dashoffset:0;}}@keyframes dash{to{stroke-dashoffset:0;}}#mermaidInkSvg .edge-animation-slow{stroke-dasharray:9,5!important;stroke-dashoffset:900;animation:dash 50s linear infinite;stroke-linecap:round;}#mermaidInkSvg .edge-animation-fast{stroke-dasharray:9,5!important;stroke-dashoffset:900;animation:dash 20s linear infinite;stroke-linecap:round;}#mermaidInkSvg .error-icon{fill:#552222;}#mermaidInkSvg .error-text{fill:#552222;stroke:#552222;}#mermaidInkSvg .edge-thickness-normal{stroke-width:1px;}#mermaidInkSvg .edge-thickness-thick{stroke-width:3.5px;}#mermaidInkSvg .edge-pattern-solid{stroke-dasharray:0;}#mermaidInkSvg .edge-thickness-invisible{stroke-width:0;fill:none;}#mermaidInkSvg .edge-pattern-dashed{stroke-dasharray:3;}#mermaidInkSvg .edge-pattern-dotted{stroke-dasharray:2;}#mermaidInkSvg .marker{fill:#333333;stroke:#333333;}#mermaidInkSvg .marker.cross{stroke:#333333;}#mermaidInkSvg svg{font-family:\"trebuchet ms\",verdana,arial,sans-serif;font-size:16px;}#mermaidInkSvg p{margin:0;}#mermaidInkSvg g.classGroup text{fill:#9370DB;stroke:none;font-family:\"trebuchet ms\",verdana,arial,sans-serif;font-size:10px;}#mermaidInkSvg g.classGroup text .title{font-weight:bolder;}#mermaidInkSvg .nodeLabel,#mermaidInkSvg .edgeLabel{color:#131300;}#mermaidInkSvg .edgeLabel .label rect{fill:#ECECFF;}#mermaidInkSvg .label text{fill:#131300;}#mermaidInkSvg .labelBkg{background:#ECECFF;}#mermaidInkSvg .edgeLabel .label span{background:#ECECFF;}#mermaidInkSvg .classTitle{font-weight:bolder;}#mermaidInkSvg .node rect,#mermaidInkSvg .node circle,#mermaidInkSvg .node ellipse,#mermaidInkSvg .node polygon,#mermaidInkSvg .node path{fill:#ECECFF;stroke:#9370DB;stroke-width:1px;}#mermaidInkSvg .divider{stroke:#9370DB;stroke-width:1;}#mermaidInkSvg g.clickable{cursor:pointer;}#mermaidInkSvg g.classGroup rect{fill:#ECECFF;stroke:#9370DB;}#mermaidInkSvg g.classGroup line{stroke:#9370DB;stroke-width:1;}#mermaidInkSvg .classLabel .box{stroke:none;stroke-width:0;fill:#ECECFF;opacity:0.5;}#mermaidInkSvg .classLabel .label{fill:#9370DB;font-size:10px;}#mermaidInkSvg .relation{stroke:#333333;stroke-width:1;fill:none;}#mermaidInkSvg .dashed-line{stroke-dasharray:3;}#mermaidInkSvg .dotted-line{stroke-dasharray:1 2;}#mermaidInkSvg #compositionStart,#mermaidInkSvg .composition{fill:#333333!important;stroke:#333333!important;stroke-width:1;}#mermaidInkSvg #compositionEnd,#mermaidInkSvg .composition{fill:#333333!important;stroke:#333333!important;stroke-width:1;}#mermaidInkSvg #dependencyStart,#mermaidInkSvg .dependency{fill:#333333!important;stroke:#333333!important;stroke-width:1;}#mermaidInkSvg #dependencyStart,#mermaidInkSvg .dependency{fill:#333333!important;stroke:#333333!important;stroke-width:1;}#mermaidInkSvg #extensionStart,#mermaidInkSvg .extension{fill:transparent!important;stroke:#333333!important;stroke-width:1;}#mermaidInkSvg #extensionEnd,#mermaidInkSvg .extension{fill:transparent!important;stroke:#333333!important;stroke-width:1;}#mermaidInkSvg #aggregationStart,#mermaidInkSvg .aggregation{fill:transparent!important;stroke:#333333!important;stroke-width:1;}#mermaidInkSvg #aggregationEnd,#mermaidInkSvg .aggregation{fill:transparent!important;stroke:#333333!important;stroke-width:1;}#mermaidInkSvg #lollipopStart,#mermaidInkSvg .lollipop{fill:#ECECFF!important;stroke:#333333!important;stroke-width:1;}#mermaidInkSvg #lollipopEnd,#mermaidInkSvg .lollipop{fill:#ECECFF!important;stroke:#333333!important;stroke-width:1;}#mermaidInkSvg .edgeTerminals{font-size:11px;line-height:initial;}#mermaidInkSvg .classTitleText{text-anchor:middle;font-size:18px;fill:#333;}#mermaidInkSvg .label-icon{display:inline-block;height:1em;overflow:visible;vertical-align:-0.125em;}#mermaidInkSvg .node .label-icon path{fill:currentColor;stroke:revert;stroke-width:revert;}#mermaidInkSvg :root{--mermaid-font-family:\"trebuchet ms\",verdana,arial,sans-serif;}</style><g><defs><marker id=\"mermaidInkSvg_class-aggregationStart\" class=\"marker aggregation class\" refX=\"18\" refY=\"7\" markerWidth=\"190\" markerHeight=\"240\" orient=\"auto\"><path d=\"M 18,7 L9,13 L1,7 L9,1 Z\"/></marker></defs><defs><marker id=\"mermaidInkSvg_class-aggregationEnd\" class=\"marker aggregation class\" refX=\"1\" refY=\"7\" markerWidth=\"20\" markerHeight=\"28\" orient=\"auto\"><path d=\"M 18,7 L9,13 L1,7 L9,1 Z\"/></marker></defs><defs><marker id=\"mermaidInkSvg_class-extensionStart\" class=\"marker extension class\" refX=\"18\" refY=\"7\" markerWidth=\"190\" markerHeight=\"240\" orient=\"auto\"><path d=\"M 1,7 L18,13 V 1 Z\"/></marker></defs><defs><marker id=\"mermaidInkSvg_class-extensionEnd\" class=\"marker extension class\" refX=\"1\" refY=\"7\" markerWidth=\"20\" markerHeight=\"28\" orient=\"auto\"><path d=\"M 1,1 V 13 L18,7 Z\"/></marker></defs><defs><marker id=\"mermaidInkSvg_class-compositionStart\" class=\"marker composition class\" refX=\"18\" refY=\"7\" markerWidth=\"190\" markerHeight=\"240\" orient=\"auto\"><path d=\"M 18,7 L9,13 L1,7 L9,1 Z\"/></marker></defs><defs><marker id=\"mermaidInkSvg_class-compositionEnd\" class=\"marker composition class\" refX=\"1\" refY=\"7\" markerWidth=\"20\" markerHeight=\"28\" orient=\"auto\"><path d=\"M 18,7 L9,13 L1,7 L9,1 Z\"/></marker></defs><defs><marker id=\"mermaidInkSvg_class-dependencyStart\" class=\"marker dependency class\" refX=\"6\" refY=\"7\" markerWidth=\"190\" markerHeight=\"240\" orient=\"auto\"><path d=\"M 5,7 L9,13 L1,7 L9,1 Z\"/></marker></defs><defs><marker id=\"mermaidInkSvg_class-dependencyEnd\" class=\"marker dependency class\" refX=\"13\" refY=\"7\" markerWidth=\"20\" markerHeight=\"28\" orient=\"auto\"><path d=\"M 18,7 L9,13 L14,7 L9,1 Z\"/></marker></defs><defs><marker id=\"mermaidInkSvg_class-lollipopStart\" class=\"marker lollipop class\" refX=\"13\" refY=\"7\" markerWidth=\"190\" markerHeight=\"240\" orient=\"auto\"><circle stroke=\"black\" fill=\"transparent\" cx=\"7\" cy=\"7\" r=\"6\"/></marker></defs><defs><marker id=\"mermaidInkSvg_class-lollipopEnd\" class=\"marker lollipop class\" refX=\"1\" refY=\"7\" markerWidth=\"190\" markerHeight=\"240\" orient=\"auto\"><circle stroke=\"black\" fill=\"transparent\" cx=\"7\" cy=\"7\" r=\"6\"/></marker></defs><g class=\"root\"><g class=\"clusters\"/><g class=\"edgePaths\"/><g class=\"edgeLabels\"/><g class=\"nodes\"><g class=\"node default\" id=\"classId-Pig-114\" transform=\"translate(76.25390625, 80)\"><g class=\"basic label-container\"><path d=\"M-68.25390625 -72 L68.25390625 -72 L68.25390625 72 L-68.25390625 72\" stroke=\"none\" stroke-width=\"0\" fill=\"#ECECFF\" style=\"\"/><path d=\"M-68.25390625 -72 C-17.14756873588462 -72, 33.95876877823076 -72, 68.25390625 -72 M-68.25390625 -72 C-24.540541028667583 -72, 19.172824192664834 -72, 68.25390625 -72 M68.25390625 -72 C68.25390625 -34.858607017998885, 68.25390625 2.2827859640022297, 68.25390625 72 M68.25390625 -72 C68.25390625 -42.333450962315055, 68.25390625 -12.66690192463011, 68.25390625 72 M68.25390625 72 C15.385952786214318 72, -37.482000677571364 72, -68.25390625 72 M68.25390625 72 C35.448590744236604 72, 2.6432752384732083 72, -68.25390625 72 M-68.25390625 72 C-68.25390625 38.8099696976217, -68.25390625 5.6199393952434065, -68.25390625 -72 M-68.25390625 72 C-68.25390625 35.47058399146336, -68.25390625 -1.0588320170732857, -68.25390625 -72\" stroke=\"#9370DB\" stroke-width=\"1.3\" fill=\"none\" stroke-dasharray=\"0 0\" style=\"\"/></g><g class=\"annotation-group text\" transform=\"translate(0, -48)\"/><g class=\"label-group text\" transform=\"translate(-12.4453125, -48)\"><g class=\"label\" style=\"font-weight: bolder\" transform=\"translate(0,-12)\"><foreignObject width=\"24.890625\" height=\"24\"><div xmlns=\"http://www.w3.org/1999/xhtml\" style=\"display: table-cell; white-space: nowrap; line-height: 1.5; max-width: 71px; text-align: center;\"><span class=\"nodeLabel markdown-node-label\" style=\"\"><p>Pig</p></span></div></foreignObject></g></g><g class=\"members-group text\" transform=\"translate(-56.25390625, 0)\"><g class=\"label\" style=\"\" transform=\"translate(0,-12)\"><foreignObject width=\"100.0625\" height=\"24\"><div xmlns=\"http://www.w3.org/1999/xhtml\" style=\"display: table-cell; white-space: nowrap; line-height: 1.5; max-width: 146px; text-align: center;\"><span class=\"nodeLabel markdown-node-label\" style=\"\"><p>+name: String</p></span></div></foreignObject></g><g class=\"label\" style=\"\" transform=\"translate(0,12)\"><foreignObject width=\"81.390625\" height=\"24\"><div xmlns=\"http://www.w3.org/1999/xhtml\" style=\"display: table-cell; white-space: nowrap; line-height: 1.5; max-width: 133px; text-align: center;\"><span class=\"nodeLabel markdown-node-label\" style=\"\"><p>+weight: int</p></span></div></foreignObject></g></g><g class=\"methods-group text\" transform=\"translate(-56.25390625, 72)\"/><g class=\"divider\" style=\"\"><path d=\"M-68.25390625 -24 C-18.669688990431716 -24, 30.914528269136568 -24, 68.25390625 -24 M-68.25390625 -24 C-28.772487640536255 -24, 10.70893096892749 -24, 68.25390625 -24\" stroke=\"#9370DB\" stroke-width=\"1.3\" fill=\"none\" stroke-dasharray=\"0 0\" style=\"\"/></g><g class=\"divider\" style=\"\"><path d=\"M-68.25390625 48 C-38.83291860493235 48, -9.411930959864705 48, 68.25390625 48 M-68.25390625 48 C-27.393603813688145 48, 13.46669862262371 48, 68.25390625 48\" stroke=\"#9370DB\" stroke-width=\"1.3\" fill=\"none\" stroke-dasharray=\"0 0\" style=\"\"/></g></g><g class=\"node default\" id=\"classId-Chicken-115\" transform=\"translate(272.1015625, 80)\"><g class=\"basic label-container\"><path d=\"M-77.59375 -72 L77.59375 -72 L77.59375 72 L-77.59375 72\" stroke=\"none\" stroke-width=\"0\" fill=\"#ECECFF\" style=\"\"/><path d=\"M-77.59375 -72 C-39.330880633526974 -72, -1.0680112670539472 -72, 77.59375 -72 M-77.59375 -72 C-26.10423723087679 -72, 25.385275538246418 -72, 77.59375 -72 M77.59375 -72 C77.59375 -21.35533574356687, 77.59375 29.289328512866263, 77.59375 72 M77.59375 -72 C77.59375 -23.06347382019809, 77.59375 25.873052359603818, 77.59375 72 M77.59375 72 C39.949258487478794 72, 2.3047669749575874 72, -77.59375 72 M77.59375 72 C31.759141254471672 72, -14.075467491056656 72, -77.59375 72 M-77.59375 72 C-77.59375 15.714649470573605, -77.59375 -40.57070105885279, -77.59375 -72 M-77.59375 72 C-77.59375 22.646051994593122, -77.59375 -26.707896010813755, -77.59375 -72\" stroke=\"#9370DB\" stroke-width=\"1.3\" fill=\"none\" stroke-dasharray=\"0 0\" style=\"\"/></g><g class=\"annotation-group text\" transform=\"translate(0, -48)\"/><g class=\"label-group text\" transform=\"translate(-31.125, -48)\"><g class=\"label\" style=\"font-weight: bolder\" transform=\"translate(0,-12)\"><foreignObject width=\"62.25\" height=\"24\"><div xmlns=\"http://www.w3.org/1999/xhtml\" style=\"display: table-cell; white-space: nowrap; line-height: 1.5; max-width: 103px; text-align: center;\"><span class=\"nodeLabel markdown-node-label\" style=\"\"><p>Chicken</p></span></div></foreignObject></g></g><g class=\"members-group text\" transform=\"translate(-65.59375, 0)\"><g class=\"label\" style=\"\" transform=\"translate(0,-12)\"><foreignObject width=\"100.0625\" height=\"24\"><div xmlns=\"http://www.w3.org/1999/xhtml\" style=\"display: table-cell; white-space: nowrap; line-height: 1.5; max-width: 146px; text-align: center;\"><span class=\"nodeLabel markdown-node-label\" style=\"\"><p>+name: String</p></span></div></foreignObject></g><g class=\"label\" style=\"\" transform=\"translate(0,12)\"><foreignObject width=\"81.390625\" height=\"24\"><div xmlns=\"http://www.w3.org/1999/xhtml\" style=\"display: table-cell; white-space: nowrap; line-height: 1.5; max-width: 133px; text-align: center;\"><span class=\"nodeLabel markdown-node-label\" style=\"\"><p>+weight: int</p></span></div></foreignObject></g></g><g class=\"methods-group text\" transform=\"translate(-65.59375, 72)\"/><g class=\"divider\" style=\"\"><path d=\"M-77.59375 -24 C-41.68298355880913 -24, -5.772217117618254 -24, 77.59375 -24 M-77.59375 -24 C-39.24085635531533 -24, -0.88796271063066 -24, 77.59375 -24\" stroke=\"#9370DB\" stroke-width=\"1.3\" fill=\"none\" stroke-dasharray=\"0 0\" style=\"\"/></g><g class=\"divider\" style=\"\"><path d=\"M-77.59375 48 C-22.79756749147588 48, 31.998615017048238 48, 77.59375 48 M-77.59375 48 C-16.334250804907576 48, 44.92524839018485 48, 77.59375 48\" stroke=\"#9370DB\" stroke-width=\"1.3\" fill=\"none\" stroke-dasharray=\"0 0\" style=\"\"/></g></g></g></g></g></svg>"
            ]
          },
          "metadata": {},
          "execution_count": 36
        }
      ]
    },
    {
      "cell_type": "markdown",
      "source": [
        "You probably realize that we have the same thing twice, just changed the name. And you know how fan I am of the *DRY principle: Don't Repeat Yourself*."
      ],
      "metadata": {
        "id": "uO4sGMH6DBLf"
      }
    },
    {
      "cell_type": "markdown",
      "source": [
        "## Inheritance\n",
        "\n",
        "Classes can inherit from other classes. That means that the sons are like their ancestors and also share their abilities.\n",
        "We can rewrite our code to avoid duplicating code."
      ],
      "metadata": {
        "id": "mfdnOLUYDUAh"
      }
    },
    {
      "cell_type": "code",
      "source": [
        "md.Mermaid(\"\"\"\n",
        "classDiagram\n",
        "  class Animal {\n",
        "        +name: String\n",
        "        +weight: int\n",
        "    }\n",
        "  class Pig{}\n",
        "  class Chicken{}\n",
        "  Animal<|--Pig\n",
        "  Animal<|--Chicken\n",
        "\"\"\")"
      ],
      "metadata": {
        "colab": {
          "base_uri": "https://localhost:8080/",
          "height": 315
        },
        "id": "OGNZj6TDDyG0",
        "outputId": "eae6909a-ee41-4362-95d9-f15a3bc68a7a"
      },
      "execution_count": 37,
      "outputs": [
        {
          "output_type": "execute_result",
          "data": {
            "text/plain": [
              "<mermaid.__main__.Mermaid at 0x7d33ed1e8530>"
            ],
            "text/html": [
              "<svg id=\"mermaidInkSvg\" width=\"100%\" xmlns=\"http://www.w3.org/2000/svg\" class=\"classDiagram\" style=\"max-width: 201.140625px;\" viewBox=\"0 0 201.140625 294\" role=\"graphics-document document\" aria-roledescription=\"class\" xmlns:xlink=\"http://www.w3.org/1999/xlink\"><style xmlns=\"http://www.w3.org/1999/xhtml\">@import url(\"https://cdnjs.cloudflare.com/ajax/libs/font-awesome/6.7.2/css/all.min.css\");</style><style>#mermaidInkSvg{font-family:\"trebuchet ms\",verdana,arial,sans-serif;font-size:16px;fill:#333;}@keyframes edge-animation-frame{from{stroke-dashoffset:0;}}@keyframes dash{to{stroke-dashoffset:0;}}#mermaidInkSvg .edge-animation-slow{stroke-dasharray:9,5!important;stroke-dashoffset:900;animation:dash 50s linear infinite;stroke-linecap:round;}#mermaidInkSvg .edge-animation-fast{stroke-dasharray:9,5!important;stroke-dashoffset:900;animation:dash 20s linear infinite;stroke-linecap:round;}#mermaidInkSvg .error-icon{fill:#552222;}#mermaidInkSvg .error-text{fill:#552222;stroke:#552222;}#mermaidInkSvg .edge-thickness-normal{stroke-width:1px;}#mermaidInkSvg .edge-thickness-thick{stroke-width:3.5px;}#mermaidInkSvg .edge-pattern-solid{stroke-dasharray:0;}#mermaidInkSvg .edge-thickness-invisible{stroke-width:0;fill:none;}#mermaidInkSvg .edge-pattern-dashed{stroke-dasharray:3;}#mermaidInkSvg .edge-pattern-dotted{stroke-dasharray:2;}#mermaidInkSvg .marker{fill:#333333;stroke:#333333;}#mermaidInkSvg .marker.cross{stroke:#333333;}#mermaidInkSvg svg{font-family:\"trebuchet ms\",verdana,arial,sans-serif;font-size:16px;}#mermaidInkSvg p{margin:0;}#mermaidInkSvg g.classGroup text{fill:#9370DB;stroke:none;font-family:\"trebuchet ms\",verdana,arial,sans-serif;font-size:10px;}#mermaidInkSvg g.classGroup text .title{font-weight:bolder;}#mermaidInkSvg .nodeLabel,#mermaidInkSvg .edgeLabel{color:#131300;}#mermaidInkSvg .edgeLabel .label rect{fill:#ECECFF;}#mermaidInkSvg .label text{fill:#131300;}#mermaidInkSvg .labelBkg{background:#ECECFF;}#mermaidInkSvg .edgeLabel .label span{background:#ECECFF;}#mermaidInkSvg .classTitle{font-weight:bolder;}#mermaidInkSvg .node rect,#mermaidInkSvg .node circle,#mermaidInkSvg .node ellipse,#mermaidInkSvg .node polygon,#mermaidInkSvg .node path{fill:#ECECFF;stroke:#9370DB;stroke-width:1px;}#mermaidInkSvg .divider{stroke:#9370DB;stroke-width:1;}#mermaidInkSvg g.clickable{cursor:pointer;}#mermaidInkSvg g.classGroup rect{fill:#ECECFF;stroke:#9370DB;}#mermaidInkSvg g.classGroup line{stroke:#9370DB;stroke-width:1;}#mermaidInkSvg .classLabel .box{stroke:none;stroke-width:0;fill:#ECECFF;opacity:0.5;}#mermaidInkSvg .classLabel .label{fill:#9370DB;font-size:10px;}#mermaidInkSvg .relation{stroke:#333333;stroke-width:1;fill:none;}#mermaidInkSvg .dashed-line{stroke-dasharray:3;}#mermaidInkSvg .dotted-line{stroke-dasharray:1 2;}#mermaidInkSvg #compositionStart,#mermaidInkSvg .composition{fill:#333333!important;stroke:#333333!important;stroke-width:1;}#mermaidInkSvg #compositionEnd,#mermaidInkSvg .composition{fill:#333333!important;stroke:#333333!important;stroke-width:1;}#mermaidInkSvg #dependencyStart,#mermaidInkSvg .dependency{fill:#333333!important;stroke:#333333!important;stroke-width:1;}#mermaidInkSvg #dependencyStart,#mermaidInkSvg .dependency{fill:#333333!important;stroke:#333333!important;stroke-width:1;}#mermaidInkSvg #extensionStart,#mermaidInkSvg .extension{fill:transparent!important;stroke:#333333!important;stroke-width:1;}#mermaidInkSvg #extensionEnd,#mermaidInkSvg .extension{fill:transparent!important;stroke:#333333!important;stroke-width:1;}#mermaidInkSvg #aggregationStart,#mermaidInkSvg .aggregation{fill:transparent!important;stroke:#333333!important;stroke-width:1;}#mermaidInkSvg #aggregationEnd,#mermaidInkSvg .aggregation{fill:transparent!important;stroke:#333333!important;stroke-width:1;}#mermaidInkSvg #lollipopStart,#mermaidInkSvg .lollipop{fill:#ECECFF!important;stroke:#333333!important;stroke-width:1;}#mermaidInkSvg #lollipopEnd,#mermaidInkSvg .lollipop{fill:#ECECFF!important;stroke:#333333!important;stroke-width:1;}#mermaidInkSvg .edgeTerminals{font-size:11px;line-height:initial;}#mermaidInkSvg .classTitleText{text-anchor:middle;font-size:18px;fill:#333;}#mermaidInkSvg .label-icon{display:inline-block;height:1em;overflow:visible;vertical-align:-0.125em;}#mermaidInkSvg .node .label-icon path{fill:currentColor;stroke:revert;stroke-width:revert;}#mermaidInkSvg :root{--mermaid-font-family:\"trebuchet ms\",verdana,arial,sans-serif;}</style><g><defs><marker id=\"mermaidInkSvg_class-aggregationStart\" class=\"marker aggregation class\" refX=\"18\" refY=\"7\" markerWidth=\"190\" markerHeight=\"240\" orient=\"auto\"><path d=\"M 18,7 L9,13 L1,7 L9,1 Z\"/></marker></defs><defs><marker id=\"mermaidInkSvg_class-aggregationEnd\" class=\"marker aggregation class\" refX=\"1\" refY=\"7\" markerWidth=\"20\" markerHeight=\"28\" orient=\"auto\"><path d=\"M 18,7 L9,13 L1,7 L9,1 Z\"/></marker></defs><defs><marker id=\"mermaidInkSvg_class-extensionStart\" class=\"marker extension class\" refX=\"18\" refY=\"7\" markerWidth=\"190\" markerHeight=\"240\" orient=\"auto\"><path d=\"M 1,7 L18,13 V 1 Z\"/></marker></defs><defs><marker id=\"mermaidInkSvg_class-extensionEnd\" class=\"marker extension class\" refX=\"1\" refY=\"7\" markerWidth=\"20\" markerHeight=\"28\" orient=\"auto\"><path d=\"M 1,1 V 13 L18,7 Z\"/></marker></defs><defs><marker id=\"mermaidInkSvg_class-compositionStart\" class=\"marker composition class\" refX=\"18\" refY=\"7\" markerWidth=\"190\" markerHeight=\"240\" orient=\"auto\"><path d=\"M 18,7 L9,13 L1,7 L9,1 Z\"/></marker></defs><defs><marker id=\"mermaidInkSvg_class-compositionEnd\" class=\"marker composition class\" refX=\"1\" refY=\"7\" markerWidth=\"20\" markerHeight=\"28\" orient=\"auto\"><path d=\"M 18,7 L9,13 L1,7 L9,1 Z\"/></marker></defs><defs><marker id=\"mermaidInkSvg_class-dependencyStart\" class=\"marker dependency class\" refX=\"6\" refY=\"7\" markerWidth=\"190\" markerHeight=\"240\" orient=\"auto\"><path d=\"M 5,7 L9,13 L1,7 L9,1 Z\"/></marker></defs><defs><marker id=\"mermaidInkSvg_class-dependencyEnd\" class=\"marker dependency class\" refX=\"13\" refY=\"7\" markerWidth=\"20\" markerHeight=\"28\" orient=\"auto\"><path d=\"M 18,7 L9,13 L14,7 L9,1 Z\"/></marker></defs><defs><marker id=\"mermaidInkSvg_class-lollipopStart\" class=\"marker lollipop class\" refX=\"13\" refY=\"7\" markerWidth=\"190\" markerHeight=\"240\" orient=\"auto\"><circle stroke=\"black\" fill=\"transparent\" cx=\"7\" cy=\"7\" r=\"6\"/></marker></defs><defs><marker id=\"mermaidInkSvg_class-lollipopEnd\" class=\"marker lollipop class\" refX=\"1\" refY=\"7\" markerWidth=\"190\" markerHeight=\"240\" orient=\"auto\"><circle stroke=\"black\" fill=\"transparent\" cx=\"7\" cy=\"7\" r=\"6\"/></marker></defs><g class=\"root\"><g class=\"clusters\"/><g class=\"edgePaths\"><path d=\"M38.656,166.752L37.621,168.46C36.586,170.168,34.515,173.584,33.48,179.459C32.445,185.333,32.445,193.667,32.445,197.833L32.445,202\" id=\"id_Animal_Pig_1\" class=\"edge-thickness-normal edge-pattern-solid relation\" style=\";;;\" data-edge=\"true\" data-et=\"edge\" data-id=\"id_Animal_Pig_1\" data-points=\"W3sieCI6NDcuNTk2MTI1OTY2NDk0ODQ2LCJ5IjoxNTJ9LHsieCI6MzIuNDQ1MzEyNSwieSI6MTc3fSx7IngiOjMyLjQ0NTMxMjUsInkiOjIwMn1d\" marker-start=\"url(#mermaidInkSvg_class-extensionStart)\"/><path d=\"M143.805,166.752L144.84,168.46C145.875,170.168,147.945,173.584,148.981,179.459C150.016,185.333,150.016,193.667,150.016,197.833L150.016,202\" id=\"id_Animal_Chicken_2\" class=\"edge-thickness-normal edge-pattern-solid relation\" style=\";;;\" data-edge=\"true\" data-et=\"edge\" data-id=\"id_Animal_Chicken_2\" data-points=\"W3sieCI6MTM0Ljg2NDgxMTUzMzUwNTE2LCJ5IjoxNTJ9LHsieCI6MTUwLjAxNTYyNSwieSI6MTc3fSx7IngiOjE1MC4wMTU2MjUsInkiOjIwMn1d\" marker-start=\"url(#mermaidInkSvg_class-extensionStart)\"/></g><g class=\"edgeLabels\"><g class=\"edgeLabel\"><g class=\"label\" data-id=\"id_Animal_Pig_1\" transform=\"translate(0, 0)\"><foreignObject width=\"0\" height=\"0\"><div xmlns=\"http://www.w3.org/1999/xhtml\" class=\"labelBkg\" style=\"display: table-cell; white-space: nowrap; line-height: 1.5; max-width: 200px; text-align: center;\"><span class=\"edgeLabel\"></span></div></foreignObject></g></g><g class=\"edgeLabel\"><g class=\"label\" data-id=\"id_Animal_Chicken_2\" transform=\"translate(0, 0)\"><foreignObject width=\"0\" height=\"0\"><div xmlns=\"http://www.w3.org/1999/xhtml\" class=\"labelBkg\" style=\"display: table-cell; white-space: nowrap; line-height: 1.5; max-width: 200px; text-align: center;\"><span class=\"edgeLabel\"></span></div></foreignObject></g></g></g><g class=\"nodes\"><g class=\"node default\" id=\"classId-Animal-14\" transform=\"translate(91.23046875, 80)\"><g class=\"basic label-container\"><path d=\"M-75.3671875 -72 L75.3671875 -72 L75.3671875 72 L-75.3671875 72\" stroke=\"none\" stroke-width=\"0\" fill=\"#ECECFF\" style=\"\"/><path d=\"M-75.3671875 -72 C-34.832124019386356 -72, 5.702939461227288 -72, 75.3671875 -72 M-75.3671875 -72 C-18.141669135780532 -72, 39.083849228438936 -72, 75.3671875 -72 M75.3671875 -72 C75.3671875 -28.58555502369824, 75.3671875 14.828889952603518, 75.3671875 72 M75.3671875 -72 C75.3671875 -30.071951524466762, 75.3671875 11.856096951066476, 75.3671875 72 M75.3671875 72 C32.25463347541555 72, -10.857920549168895 72, -75.3671875 72 M75.3671875 72 C34.125898422802514 72, -7.115390654394972 72, -75.3671875 72 M-75.3671875 72 C-75.3671875 35.47299779752467, -75.3671875 -1.0540044049506605, -75.3671875 -72 M-75.3671875 72 C-75.3671875 37.619741330884985, -75.3671875 3.2394826617699692, -75.3671875 -72\" stroke=\"#9370DB\" stroke-width=\"1.3\" fill=\"none\" stroke-dasharray=\"0 0\" style=\"\"/></g><g class=\"annotation-group text\" transform=\"translate(0, -48)\"/><g class=\"label-group text\" transform=\"translate(-26.671875, -48)\"><g class=\"label\" style=\"font-weight: bolder\" transform=\"translate(0,-12)\"><foreignObject width=\"53.34375\" height=\"24\"><div xmlns=\"http://www.w3.org/1999/xhtml\" style=\"display: table-cell; white-space: nowrap; line-height: 1.5; max-width: 99px; text-align: center;\"><span class=\"nodeLabel markdown-node-label\" style=\"\"><p>Animal</p></span></div></foreignObject></g></g><g class=\"members-group text\" transform=\"translate(-63.3671875, 0)\"><g class=\"label\" style=\"\" transform=\"translate(0,-12)\"><foreignObject width=\"100.0625\" height=\"24\"><div xmlns=\"http://www.w3.org/1999/xhtml\" style=\"display: table-cell; white-space: nowrap; line-height: 1.5; max-width: 146px; text-align: center;\"><span class=\"nodeLabel markdown-node-label\" style=\"\"><p>+name: String</p></span></div></foreignObject></g><g class=\"label\" style=\"\" transform=\"translate(0,12)\"><foreignObject width=\"81.390625\" height=\"24\"><div xmlns=\"http://www.w3.org/1999/xhtml\" style=\"display: table-cell; white-space: nowrap; line-height: 1.5; max-width: 133px; text-align: center;\"><span class=\"nodeLabel markdown-node-label\" style=\"\"><p>+weight: int</p></span></div></foreignObject></g></g><g class=\"methods-group text\" transform=\"translate(-63.3671875, 72)\"/><g class=\"divider\" style=\"\"><path d=\"M-75.3671875 -24 C-27.65878249050445 -24, 20.0496225189911 -24, 75.3671875 -24 M-75.3671875 -24 C-18.254809138065 -24, 38.85756922387 -24, 75.3671875 -24\" stroke=\"#9370DB\" stroke-width=\"1.3\" fill=\"none\" stroke-dasharray=\"0 0\" style=\"\"/></g><g class=\"divider\" style=\"\"><path d=\"M-75.3671875 48 C-17.01471127959288 48, 41.33776494081424 48, 75.3671875 48 M-75.3671875 48 C-28.628840507063636 48, 18.10950648587273 48, 75.3671875 48\" stroke=\"#9370DB\" stroke-width=\"1.3\" fill=\"none\" stroke-dasharray=\"0 0\" style=\"\"/></g></g><g class=\"node default\" id=\"classId-Pig-15\" transform=\"translate(32.4453125, 244)\"><g class=\"basic label-container\"><path d=\"M-24.4453125 -42 L24.4453125 -42 L24.4453125 42 L-24.4453125 42\" stroke=\"none\" stroke-width=\"0\" fill=\"#ECECFF\" style=\"\"/><path d=\"M-24.4453125 -42 C-13.17484811395799 -42, -1.904383727915981 -42, 24.4453125 -42 M-24.4453125 -42 C-6.801574002521761 -42, 10.842164494956478 -42, 24.4453125 -42 M24.4453125 -42 C24.4453125 -12.076767534844866, 24.4453125 17.84646493031027, 24.4453125 42 M24.4453125 -42 C24.4453125 -10.657067969148578, 24.4453125 20.685864061702844, 24.4453125 42 M24.4453125 42 C14.571184215403838 42, 4.697055930807675 42, -24.4453125 42 M24.4453125 42 C9.189320708391673 42, -6.066671083216654 42, -24.4453125 42 M-24.4453125 42 C-24.4453125 20.597659702540923, -24.4453125 -0.8046805949181532, -24.4453125 -42 M-24.4453125 42 C-24.4453125 10.106766502123193, -24.4453125 -21.786466995753614, -24.4453125 -42\" stroke=\"#9370DB\" stroke-width=\"1.3\" fill=\"none\" stroke-dasharray=\"0 0\" style=\"\"/></g><g class=\"annotation-group text\" transform=\"translate(0, -18)\"/><g class=\"label-group text\" transform=\"translate(-12.4453125, -18)\"><g class=\"label\" style=\"font-weight: bolder\" transform=\"translate(0,-12)\"><foreignObject width=\"24.890625\" height=\"24\"><div xmlns=\"http://www.w3.org/1999/xhtml\" style=\"display: table-cell; white-space: nowrap; line-height: 1.5; max-width: 71px; text-align: center;\"><span class=\"nodeLabel markdown-node-label\" style=\"\"><p>Pig</p></span></div></foreignObject></g></g><g class=\"members-group text\" transform=\"translate(-12.4453125, 30)\"/><g class=\"methods-group text\" transform=\"translate(-12.4453125, 60)\"/><g class=\"divider\" style=\"\"><path d=\"M-24.4453125 6 C-7.174325339902051 6, 10.096661820195898 6, 24.4453125 6 M-24.4453125 6 C-5.152496112509432 6, 14.140320274981136 6, 24.4453125 6\" stroke=\"#9370DB\" stroke-width=\"1.3\" fill=\"none\" stroke-dasharray=\"0 0\" style=\"\"/></g><g class=\"divider\" style=\"\"><path d=\"M-24.4453125 24 C-9.432048332202985 24, 5.58121583559403 24, 24.4453125 24 M-24.4453125 24 C-9.641635449863436 24, 5.1620416002731275 24, 24.4453125 24\" stroke=\"#9370DB\" stroke-width=\"1.3\" fill=\"none\" stroke-dasharray=\"0 0\" style=\"\"/></g></g><g class=\"node default\" id=\"classId-Chicken-16\" transform=\"translate(150.015625, 244)\"><g class=\"basic label-container\"><path d=\"M-43.125 -42 L43.125 -42 L43.125 42 L-43.125 42\" stroke=\"none\" stroke-width=\"0\" fill=\"#ECECFF\" style=\"\"/><path d=\"M-43.125 -42 C-21.65818444528368 -42, -0.19136889056736095 -42, 43.125 -42 M-43.125 -42 C-19.07943015358157 -42, 4.966139692836862 -42, 43.125 -42 M43.125 -42 C43.125 -10.378247782243978, 43.125 21.243504435512044, 43.125 42 M43.125 -42 C43.125 -20.188384965572656, 43.125 1.6232300688546886, 43.125 42 M43.125 42 C21.578320209431187 42, 0.031640418862373565 42, -43.125 42 M43.125 42 C10.913035558372819 42, -21.298928883254362 42, -43.125 42 M-43.125 42 C-43.125 21.713774610595213, -43.125 1.427549221190425, -43.125 -42 M-43.125 42 C-43.125 12.377206290662045, -43.125 -17.24558741867591, -43.125 -42\" stroke=\"#9370DB\" stroke-width=\"1.3\" fill=\"none\" stroke-dasharray=\"0 0\" style=\"\"/></g><g class=\"annotation-group text\" transform=\"translate(0, -18)\"/><g class=\"label-group text\" transform=\"translate(-31.125, -18)\"><g class=\"label\" style=\"font-weight: bolder\" transform=\"translate(0,-12)\"><foreignObject width=\"62.25\" height=\"24\"><div xmlns=\"http://www.w3.org/1999/xhtml\" style=\"display: table-cell; white-space: nowrap; line-height: 1.5; max-width: 103px; text-align: center;\"><span class=\"nodeLabel markdown-node-label\" style=\"\"><p>Chicken</p></span></div></foreignObject></g></g><g class=\"members-group text\" transform=\"translate(-31.125, 30)\"/><g class=\"methods-group text\" transform=\"translate(-31.125, 60)\"/><g class=\"divider\" style=\"\"><path d=\"M-43.125 6 C-20.935951240309304 6, 1.2530975193813916 6, 43.125 6 M-43.125 6 C-18.841557825852444 6, 5.441884348295112 6, 43.125 6\" stroke=\"#9370DB\" stroke-width=\"1.3\" fill=\"none\" stroke-dasharray=\"0 0\" style=\"\"/></g><g class=\"divider\" style=\"\"><path d=\"M-43.125 24 C-17.679948429406412 24, 7.765103141187176 24, 43.125 24 M-43.125 24 C-18.498701563143673 24, 6.127596873712655 24, 43.125 24\" stroke=\"#9370DB\" stroke-width=\"1.3\" fill=\"none\" stroke-dasharray=\"0 0\" style=\"\"/></g></g></g></g></g></svg>"
            ]
          },
          "metadata": {},
          "execution_count": 37
        }
      ]
    },
    {
      "cell_type": "code",
      "source": [
        "class Animal:\n",
        "  def __init__(self, name, weigth):\n",
        "    self.name = name\n",
        "    self.weigth = weigth\n",
        "\n",
        "class Pig(Animal):\n",
        "  pass\n",
        "\n",
        "class Chicken(Animal):\n",
        "  pass"
      ],
      "metadata": {
        "id": "xyr3h2FxEEm6"
      },
      "execution_count": 38,
      "outputs": []
    },
    {
      "cell_type": "markdown",
      "source": [
        "We defined a new class, `Animal`, that will be the ancestor of the `Pig` and the `Chicken`. It contains the shared data and can be used by its descendants."
      ],
      "metadata": {
        "id": "HFtoM9T8EPqP"
      }
    },
    {
      "cell_type": "code",
      "source": [
        "perico = Pig(\"Perico\", 10)\n",
        "juanito = Chicken(\"Juanito\", 5)\n",
        "print(f\"Our pig is called {perico.name} and weights {perico.weigth}Kg.\")"
      ],
      "metadata": {
        "colab": {
          "base_uri": "https://localhost:8080/"
        },
        "id": "o37gDnm3JlWL",
        "outputId": "60fa1f53-4f20-4f58-a515-0cfe8d59e1e7"
      },
      "execution_count": 39,
      "outputs": [
        {
          "output_type": "stream",
          "name": "stdout",
          "text": [
            "Our pig is called Perico and weights 10Kg.\n"
          ]
        }
      ]
    },
    {
      "cell_type": "markdown",
      "source": [
        "The `Pig` and `Chicken` classes are empty, so right now they are valuable due to its kind.\n",
        "But they can have whatever we need. In particular, we said that each of them have a price in the market!"
      ],
      "metadata": {
        "id": "3rMPK7jSJ5mw"
      }
    },
    {
      "cell_type": "code",
      "source": [
        "md.Mermaid(\"\"\"\n",
        "classDiagram\n",
        "  class Animal {\n",
        "        +name: String\n",
        "        +weight: int\n",
        "        +get_value(): int\n",
        "    }\n",
        "  class Pig{\n",
        "    +price: int\n",
        "  }\n",
        "  class Chicken{\n",
        "    +price: int\n",
        "  }\n",
        "  Animal<|--Pig\n",
        "  Animal<|--Chicken\n",
        "\"\"\")"
      ],
      "metadata": {
        "colab": {
          "base_uri": "https://localhost:8080/",
          "height": 375
        },
        "id": "RNYcqKCeKLWL",
        "outputId": "987f961b-cdff-4e7c-8812-add00013af75"
      },
      "execution_count": 40,
      "outputs": [
        {
          "output_type": "execute_result",
          "data": {
            "text/plain": [
              "<mermaid.__main__.Mermaid at 0x7d33ed219160>"
            ],
            "text/html": [
              "<svg id=\"mermaidInkSvg\" width=\"100%\" xmlns=\"http://www.w3.org/2000/svg\" class=\"classDiagram\" style=\"max-width: 297.1953125px;\" viewBox=\"0 0 297.1953125 354\" role=\"graphics-document document\" aria-roledescription=\"class\" xmlns:xlink=\"http://www.w3.org/1999/xlink\"><style xmlns=\"http://www.w3.org/1999/xhtml\">@import url(\"https://cdnjs.cloudflare.com/ajax/libs/font-awesome/6.7.2/css/all.min.css\");</style><style>#mermaidInkSvg{font-family:\"trebuchet ms\",verdana,arial,sans-serif;font-size:16px;fill:#333;}@keyframes edge-animation-frame{from{stroke-dashoffset:0;}}@keyframes dash{to{stroke-dashoffset:0;}}#mermaidInkSvg .edge-animation-slow{stroke-dasharray:9,5!important;stroke-dashoffset:900;animation:dash 50s linear infinite;stroke-linecap:round;}#mermaidInkSvg .edge-animation-fast{stroke-dasharray:9,5!important;stroke-dashoffset:900;animation:dash 20s linear infinite;stroke-linecap:round;}#mermaidInkSvg .error-icon{fill:#552222;}#mermaidInkSvg .error-text{fill:#552222;stroke:#552222;}#mermaidInkSvg .edge-thickness-normal{stroke-width:1px;}#mermaidInkSvg .edge-thickness-thick{stroke-width:3.5px;}#mermaidInkSvg .edge-pattern-solid{stroke-dasharray:0;}#mermaidInkSvg .edge-thickness-invisible{stroke-width:0;fill:none;}#mermaidInkSvg .edge-pattern-dashed{stroke-dasharray:3;}#mermaidInkSvg .edge-pattern-dotted{stroke-dasharray:2;}#mermaidInkSvg .marker{fill:#333333;stroke:#333333;}#mermaidInkSvg .marker.cross{stroke:#333333;}#mermaidInkSvg svg{font-family:\"trebuchet ms\",verdana,arial,sans-serif;font-size:16px;}#mermaidInkSvg p{margin:0;}#mermaidInkSvg g.classGroup text{fill:#9370DB;stroke:none;font-family:\"trebuchet ms\",verdana,arial,sans-serif;font-size:10px;}#mermaidInkSvg g.classGroup text .title{font-weight:bolder;}#mermaidInkSvg .nodeLabel,#mermaidInkSvg .edgeLabel{color:#131300;}#mermaidInkSvg .edgeLabel .label rect{fill:#ECECFF;}#mermaidInkSvg .label text{fill:#131300;}#mermaidInkSvg .labelBkg{background:#ECECFF;}#mermaidInkSvg .edgeLabel .label span{background:#ECECFF;}#mermaidInkSvg .classTitle{font-weight:bolder;}#mermaidInkSvg .node rect,#mermaidInkSvg .node circle,#mermaidInkSvg .node ellipse,#mermaidInkSvg .node polygon,#mermaidInkSvg .node path{fill:#ECECFF;stroke:#9370DB;stroke-width:1px;}#mermaidInkSvg .divider{stroke:#9370DB;stroke-width:1;}#mermaidInkSvg g.clickable{cursor:pointer;}#mermaidInkSvg g.classGroup rect{fill:#ECECFF;stroke:#9370DB;}#mermaidInkSvg g.classGroup line{stroke:#9370DB;stroke-width:1;}#mermaidInkSvg .classLabel .box{stroke:none;stroke-width:0;fill:#ECECFF;opacity:0.5;}#mermaidInkSvg .classLabel .label{fill:#9370DB;font-size:10px;}#mermaidInkSvg .relation{stroke:#333333;stroke-width:1;fill:none;}#mermaidInkSvg .dashed-line{stroke-dasharray:3;}#mermaidInkSvg .dotted-line{stroke-dasharray:1 2;}#mermaidInkSvg #compositionStart,#mermaidInkSvg .composition{fill:#333333!important;stroke:#333333!important;stroke-width:1;}#mermaidInkSvg #compositionEnd,#mermaidInkSvg .composition{fill:#333333!important;stroke:#333333!important;stroke-width:1;}#mermaidInkSvg #dependencyStart,#mermaidInkSvg .dependency{fill:#333333!important;stroke:#333333!important;stroke-width:1;}#mermaidInkSvg #dependencyStart,#mermaidInkSvg .dependency{fill:#333333!important;stroke:#333333!important;stroke-width:1;}#mermaidInkSvg #extensionStart,#mermaidInkSvg .extension{fill:transparent!important;stroke:#333333!important;stroke-width:1;}#mermaidInkSvg #extensionEnd,#mermaidInkSvg .extension{fill:transparent!important;stroke:#333333!important;stroke-width:1;}#mermaidInkSvg #aggregationStart,#mermaidInkSvg .aggregation{fill:transparent!important;stroke:#333333!important;stroke-width:1;}#mermaidInkSvg #aggregationEnd,#mermaidInkSvg .aggregation{fill:transparent!important;stroke:#333333!important;stroke-width:1;}#mermaidInkSvg #lollipopStart,#mermaidInkSvg .lollipop{fill:#ECECFF!important;stroke:#333333!important;stroke-width:1;}#mermaidInkSvg #lollipopEnd,#mermaidInkSvg .lollipop{fill:#ECECFF!important;stroke:#333333!important;stroke-width:1;}#mermaidInkSvg .edgeTerminals{font-size:11px;line-height:initial;}#mermaidInkSvg .classTitleText{text-anchor:middle;font-size:18px;fill:#333;}#mermaidInkSvg .label-icon{display:inline-block;height:1em;overflow:visible;vertical-align:-0.125em;}#mermaidInkSvg .node .label-icon path{fill:currentColor;stroke:revert;stroke-width:revert;}#mermaidInkSvg :root{--mermaid-font-family:\"trebuchet ms\",verdana,arial,sans-serif;}</style><g><defs><marker id=\"mermaidInkSvg_class-aggregationStart\" class=\"marker aggregation class\" refX=\"18\" refY=\"7\" markerWidth=\"190\" markerHeight=\"240\" orient=\"auto\"><path d=\"M 18,7 L9,13 L1,7 L9,1 Z\"/></marker></defs><defs><marker id=\"mermaidInkSvg_class-aggregationEnd\" class=\"marker aggregation class\" refX=\"1\" refY=\"7\" markerWidth=\"20\" markerHeight=\"28\" orient=\"auto\"><path d=\"M 18,7 L9,13 L1,7 L9,1 Z\"/></marker></defs><defs><marker id=\"mermaidInkSvg_class-extensionStart\" class=\"marker extension class\" refX=\"18\" refY=\"7\" markerWidth=\"190\" markerHeight=\"240\" orient=\"auto\"><path d=\"M 1,7 L18,13 V 1 Z\"/></marker></defs><defs><marker id=\"mermaidInkSvg_class-extensionEnd\" class=\"marker extension class\" refX=\"1\" refY=\"7\" markerWidth=\"20\" markerHeight=\"28\" orient=\"auto\"><path d=\"M 1,1 V 13 L18,7 Z\"/></marker></defs><defs><marker id=\"mermaidInkSvg_class-compositionStart\" class=\"marker composition class\" refX=\"18\" refY=\"7\" markerWidth=\"190\" markerHeight=\"240\" orient=\"auto\"><path d=\"M 18,7 L9,13 L1,7 L9,1 Z\"/></marker></defs><defs><marker id=\"mermaidInkSvg_class-compositionEnd\" class=\"marker composition class\" refX=\"1\" refY=\"7\" markerWidth=\"20\" markerHeight=\"28\" orient=\"auto\"><path d=\"M 18,7 L9,13 L1,7 L9,1 Z\"/></marker></defs><defs><marker id=\"mermaidInkSvg_class-dependencyStart\" class=\"marker dependency class\" refX=\"6\" refY=\"7\" markerWidth=\"190\" markerHeight=\"240\" orient=\"auto\"><path d=\"M 5,7 L9,13 L1,7 L9,1 Z\"/></marker></defs><defs><marker id=\"mermaidInkSvg_class-dependencyEnd\" class=\"marker dependency class\" refX=\"13\" refY=\"7\" markerWidth=\"20\" markerHeight=\"28\" orient=\"auto\"><path d=\"M 18,7 L9,13 L14,7 L9,1 Z\"/></marker></defs><defs><marker id=\"mermaidInkSvg_class-lollipopStart\" class=\"marker lollipop class\" refX=\"13\" refY=\"7\" markerWidth=\"190\" markerHeight=\"240\" orient=\"auto\"><circle stroke=\"black\" fill=\"transparent\" cx=\"7\" cy=\"7\" r=\"6\"/></marker></defs><defs><marker id=\"mermaidInkSvg_class-lollipopEnd\" class=\"marker lollipop class\" refX=\"1\" refY=\"7\" markerWidth=\"190\" markerHeight=\"240\" orient=\"auto\"><circle stroke=\"black\" fill=\"transparent\" cx=\"7\" cy=\"7\" r=\"6\"/></marker></defs><g class=\"root\"><g class=\"clusters\"/><g class=\"edgePaths\"><path d=\"M69.685,189.736L68.259,191.614C66.833,193.491,63.981,197.245,62.555,203.289C61.129,209.333,61.129,217.667,61.129,221.833L61.129,226\" id=\"id_Animal_Pig_1\" class=\"edge-thickness-normal edge-pattern-solid relation\" style=\";;;\" data-edge=\"true\" data-et=\"edge\" data-id=\"id_Animal_Pig_1\" data-points=\"W3sieCI6ODAuMTE5NDYzMTU5NDAzNjcsInkiOjE3Nn0seyJ4Ijo2MS4xMjg5MDYyNSwieSI6MjAxfSx7IngiOjYxLjEyODkwNjI1LCJ5IjoyMjZ9XQ==\" marker-start=\"url(#mermaidInkSvg_class-extensionStart)\"/><path d=\"M218.17,189.736L219.596,191.614C221.022,193.491,223.875,197.245,225.301,203.289C226.727,209.333,226.727,217.667,226.727,221.833L226.727,226\" id=\"id_Animal_Chicken_2\" class=\"edge-thickness-normal edge-pattern-solid relation\" style=\";;;\" data-edge=\"true\" data-et=\"edge\" data-id=\"id_Animal_Chicken_2\" data-points=\"W3sieCI6MjA3LjczNjAwNTU5MDU5NjMzLCJ5IjoxNzZ9LHsieCI6MjI2LjcyNjU2MjUsInkiOjIwMX0seyJ4IjoyMjYuNzI2NTYyNSwieSI6MjI2fV0=\" marker-start=\"url(#mermaidInkSvg_class-extensionStart)\"/></g><g class=\"edgeLabels\"><g class=\"edgeLabel\"><g class=\"label\" data-id=\"id_Animal_Pig_1\" transform=\"translate(0, 0)\"><foreignObject width=\"0\" height=\"0\"><div xmlns=\"http://www.w3.org/1999/xhtml\" class=\"labelBkg\" style=\"display: table-cell; white-space: nowrap; line-height: 1.5; max-width: 200px; text-align: center;\"><span class=\"edgeLabel\"></span></div></foreignObject></g></g><g class=\"edgeLabel\"><g class=\"label\" data-id=\"id_Animal_Chicken_2\" transform=\"translate(0, 0)\"><foreignObject width=\"0\" height=\"0\"><div xmlns=\"http://www.w3.org/1999/xhtml\" class=\"labelBkg\" style=\"display: table-cell; white-space: nowrap; line-height: 1.5; max-width: 200px; text-align: center;\"><span class=\"edgeLabel\"></span></div></foreignObject></g></g></g><g class=\"nodes\"><g class=\"node default\" id=\"classId-Animal-49\" transform=\"translate(143.927734375, 92)\"><g class=\"basic label-container\"><path d=\"M-89.59375 -84 L89.59375 -84 L89.59375 84 L-89.59375 84\" stroke=\"none\" stroke-width=\"0\" fill=\"#ECECFF\" style=\"\"/><path d=\"M-89.59375 -84 C-23.220836914010718 -84, 43.152076171978564 -84, 89.59375 -84 M-89.59375 -84 C-44.17523351241442 -84, 1.2432829751711552 -84, 89.59375 -84 M89.59375 -84 C89.59375 -26.967525365199393, 89.59375 30.064949269601215, 89.59375 84 M89.59375 -84 C89.59375 -40.91196522245964, 89.59375 2.1760695550807156, 89.59375 84 M89.59375 84 C45.916043294310064 84, 2.238336588620129 84, -89.59375 84 M89.59375 84 C49.34805699372071 84, 9.102363987441422 84, -89.59375 84 M-89.59375 84 C-89.59375 33.553800996050775, -89.59375 -16.89239800789845, -89.59375 -84 M-89.59375 84 C-89.59375 46.63125895672179, -89.59375 9.262517913443574, -89.59375 -84\" stroke=\"#9370DB\" stroke-width=\"1.3\" fill=\"none\" stroke-dasharray=\"0 0\" style=\"\"/></g><g class=\"annotation-group text\" transform=\"translate(0, -60)\"/><g class=\"label-group text\" transform=\"translate(-26.671875, -60)\"><g class=\"label\" style=\"font-weight: bolder\" transform=\"translate(0,-12)\"><foreignObject width=\"53.34375\" height=\"24\"><div xmlns=\"http://www.w3.org/1999/xhtml\" style=\"display: table-cell; white-space: nowrap; line-height: 1.5; max-width: 99px; text-align: center;\"><span class=\"nodeLabel markdown-node-label\" style=\"\"><p>Animal</p></span></div></foreignObject></g></g><g class=\"members-group text\" transform=\"translate(-77.59375, -12)\"><g class=\"label\" style=\"\" transform=\"translate(0,-12)\"><foreignObject width=\"100.0625\" height=\"24\"><div xmlns=\"http://www.w3.org/1999/xhtml\" style=\"display: table-cell; white-space: nowrap; line-height: 1.5; max-width: 146px; text-align: center;\"><span class=\"nodeLabel markdown-node-label\" style=\"\"><p>+name: String</p></span></div></foreignObject></g><g class=\"label\" style=\"\" transform=\"translate(0,12)\"><foreignObject width=\"81.390625\" height=\"24\"><div xmlns=\"http://www.w3.org/1999/xhtml\" style=\"display: table-cell; white-space: nowrap; line-height: 1.5; max-width: 133px; text-align: center;\"><span class=\"nodeLabel markdown-node-label\" style=\"\"><p>+weight: int</p></span></div></foreignObject></g></g><g class=\"methods-group text\" transform=\"translate(-77.59375, 60)\"><g class=\"label\" style=\"\" transform=\"translate(0,-12)\"><foreignObject width=\"128.515625\" height=\"24\"><div xmlns=\"http://www.w3.org/1999/xhtml\" style=\"display: table-cell; white-space: nowrap; line-height: 1.5; max-width: 175px; text-align: center;\"><span class=\"nodeLabel markdown-node-label\" style=\"\"><p>+get_value() : : int</p></span></div></foreignObject></g></g><g class=\"divider\" style=\"\"><path d=\"M-89.59375 -36 C-49.09031368622314 -36, -8.586877372446281 -36, 89.59375 -36 M-89.59375 -36 C-38.514760142666596 -36, 12.564229714666808 -36, 89.59375 -36\" stroke=\"#9370DB\" stroke-width=\"1.3\" fill=\"none\" stroke-dasharray=\"0 0\" style=\"\"/></g><g class=\"divider\" style=\"\"><path d=\"M-89.59375 36 C-18.846441854709695 36, 51.90086629058061 36, 89.59375 36 M-89.59375 36 C-29.59417152635737 36, 30.405406947285258 36, 89.59375 36\" stroke=\"#9370DB\" stroke-width=\"1.3\" fill=\"none\" stroke-dasharray=\"0 0\" style=\"\"/></g></g><g class=\"node default\" id=\"classId-Pig-50\" transform=\"translate(61.12890625, 286)\"><g class=\"basic label-container\"><path d=\"M-53.12890625 -60 L53.12890625 -60 L53.12890625 60 L-53.12890625 60\" stroke=\"none\" stroke-width=\"0\" fill=\"#ECECFF\" style=\"\"/><path d=\"M-53.12890625 -60 C-12.49397130114675 -60, 28.1409636477065 -60, 53.12890625 -60 M-53.12890625 -60 C-29.768755521774267 -60, -6.408604793548534 -60, 53.12890625 -60 M53.12890625 -60 C53.12890625 -13.113997104157406, 53.12890625 33.77200579168519, 53.12890625 60 M53.12890625 -60 C53.12890625 -28.88549556248605, 53.12890625 2.229008875027901, 53.12890625 60 M53.12890625 60 C21.094500394464845 60, -10.93990546107031 60, -53.12890625 60 M53.12890625 60 C30.874024688068257 60, 8.619143126136514 60, -53.12890625 60 M-53.12890625 60 C-53.12890625 35.58057496665758, -53.12890625 11.161149933315151, -53.12890625 -60 M-53.12890625 60 C-53.12890625 17.769224406391366, -53.12890625 -24.461551187217268, -53.12890625 -60\" stroke=\"#9370DB\" stroke-width=\"1.3\" fill=\"none\" stroke-dasharray=\"0 0\" style=\"\"/></g><g class=\"annotation-group text\" transform=\"translate(0, -36)\"/><g class=\"label-group text\" transform=\"translate(-12.4453125, -36)\"><g class=\"label\" style=\"font-weight: bolder\" transform=\"translate(0,-12)\"><foreignObject width=\"24.890625\" height=\"24\"><div xmlns=\"http://www.w3.org/1999/xhtml\" style=\"display: table-cell; white-space: nowrap; line-height: 1.5; max-width: 71px; text-align: center;\"><span class=\"nodeLabel markdown-node-label\" style=\"\"><p>Pig</p></span></div></foreignObject></g></g><g class=\"members-group text\" transform=\"translate(-41.12890625, 12)\"><g class=\"label\" style=\"\" transform=\"translate(0,-12)\"><foreignObject width=\"69.8125\" height=\"24\"><div xmlns=\"http://www.w3.org/1999/xhtml\" style=\"display: table-cell; white-space: nowrap; line-height: 1.5; max-width: 121px; text-align: center;\"><span class=\"nodeLabel markdown-node-label\" style=\"\"><p>+price: int</p></span></div></foreignObject></g></g><g class=\"methods-group text\" transform=\"translate(-41.12890625, 60)\"/><g class=\"divider\" style=\"\"><path d=\"M-53.12890625 -12 C-18.65724672676584 -12, 15.814412796468318 -12, 53.12890625 -12 M-53.12890625 -12 C-26.514015425868248 -12, 0.10087539826350422 -12, 53.12890625 -12\" stroke=\"#9370DB\" stroke-width=\"1.3\" fill=\"none\" stroke-dasharray=\"0 0\" style=\"\"/></g><g class=\"divider\" style=\"\"><path d=\"M-53.12890625 36 C-14.683132677344148 36, 23.762640895311705 36, 53.12890625 36 M-53.12890625 36 C-11.947469319212715 36, 29.23396761157457 36, 53.12890625 36\" stroke=\"#9370DB\" stroke-width=\"1.3\" fill=\"none\" stroke-dasharray=\"0 0\" style=\"\"/></g></g><g class=\"node default\" id=\"classId-Chicken-51\" transform=\"translate(226.7265625, 286)\"><g class=\"basic label-container\"><path d=\"M-62.46875 -60 L62.46875 -60 L62.46875 60 L-62.46875 60\" stroke=\"none\" stroke-width=\"0\" fill=\"#ECECFF\" style=\"\"/><path d=\"M-62.46875 -60 C-32.36487916323563 -60, -2.2610083264712557 -60, 62.46875 -60 M-62.46875 -60 C-35.11039811922791 -60, -7.752046238455826 -60, 62.46875 -60 M62.46875 -60 C62.46875 -13.458467146172524, 62.46875 33.08306570765495, 62.46875 60 M62.46875 -60 C62.46875 -32.52677122844881, 62.46875 -5.053542456897624, 62.46875 60 M62.46875 60 C14.06448179113616 60, -34.33978641772768 60, -62.46875 60 M62.46875 60 C30.838628239462434 60, -0.7914935210751324 60, -62.46875 60 M-62.46875 60 C-62.46875 35.55491518299047, -62.46875 11.10983036598094, -62.46875 -60 M-62.46875 60 C-62.46875 24.16477387921507, -62.46875 -11.670452241569862, -62.46875 -60\" stroke=\"#9370DB\" stroke-width=\"1.3\" fill=\"none\" stroke-dasharray=\"0 0\" style=\"\"/></g><g class=\"annotation-group text\" transform=\"translate(0, -36)\"/><g class=\"label-group text\" transform=\"translate(-31.125, -36)\"><g class=\"label\" style=\"font-weight: bolder\" transform=\"translate(0,-12)\"><foreignObject width=\"62.25\" height=\"24\"><div xmlns=\"http://www.w3.org/1999/xhtml\" style=\"display: table-cell; white-space: nowrap; line-height: 1.5; max-width: 103px; text-align: center;\"><span class=\"nodeLabel markdown-node-label\" style=\"\"><p>Chicken</p></span></div></foreignObject></g></g><g class=\"members-group text\" transform=\"translate(-50.46875, 12)\"><g class=\"label\" style=\"\" transform=\"translate(0,-12)\"><foreignObject width=\"69.8125\" height=\"24\"><div xmlns=\"http://www.w3.org/1999/xhtml\" style=\"display: table-cell; white-space: nowrap; line-height: 1.5; max-width: 121px; text-align: center;\"><span class=\"nodeLabel markdown-node-label\" style=\"\"><p>+price: int</p></span></div></foreignObject></g></g><g class=\"methods-group text\" transform=\"translate(-50.46875, 60)\"/><g class=\"divider\" style=\"\"><path d=\"M-62.46875 -12 C-36.86923802722504 -12, -11.269726054450068 -12, 62.46875 -12 M-62.46875 -12 C-20.643710828141067 -12, 21.181328343717865 -12, 62.46875 -12\" stroke=\"#9370DB\" stroke-width=\"1.3\" fill=\"none\" stroke-dasharray=\"0 0\" style=\"\"/></g><g class=\"divider\" style=\"\"><path d=\"M-62.46875 36 C-19.439167609728223 36, 23.590414780543554 36, 62.46875 36 M-62.46875 36 C-34.99687046398635 36, -7.524990927972695 36, 62.46875 36\" stroke=\"#9370DB\" stroke-width=\"1.3\" fill=\"none\" stroke-dasharray=\"0 0\" style=\"\"/></g></g></g></g></g></svg>"
            ]
          },
          "metadata": {},
          "execution_count": 40
        }
      ]
    },
    {
      "cell_type": "code",
      "source": [
        "class Animal:\n",
        "  def __init__(self, name, weigth):\n",
        "    self.name = name\n",
        "    self.weigth = weigth\n",
        "\n",
        "  def get_value(self):\n",
        "    return self.weigth * self.price\n",
        "\n",
        "class Pig(Animal):\n",
        "  price = 15\n",
        "\n",
        "class Chicken(Animal):\n",
        "  price = 7\n",
        "\n"
      ],
      "metadata": {
        "id": "Jk1N4BiKKNXX"
      },
      "execution_count": 41,
      "outputs": []
    },
    {
      "cell_type": "markdown",
      "source": [
        "Here we defined a class variable: a variable that is associates with its class, and not to a particular instance of a class.\n",
        "We also defined a method to get the value of particular animal. Realize that the method have been defined in the `Animal` class, but it relies in the proper definition of the particular value in its descendants."
      ],
      "metadata": {
        "id": "78WgwKLpK-6X"
      }
    },
    {
      "cell_type": "code",
      "source": [
        "perico = Pig(\"Perico\", 10)\n",
        "jorgito = Pig(\"Jorgito\", 15)\n",
        "print(f\"Perico is worth {perico.get_value()}\")\n",
        "print(f\"Jorgito is worth {jorgito.get_value()}\")\n",
        "\n",
        "# There's a market change and now the price for the pig goes to 3\n",
        "Pig.price = 3\n",
        "print(f\"Perico is worth {perico.get_value()}\")\n",
        "print(f\"Jorgito is worth {jorgito.get_value()}\")\n",
        "\n",
        "# We have another price change\n",
        "perico.price = 7\n",
        "print(f\"Perico is worth {perico.get_value()}\")\n",
        "print(f\"Jorgito is worth {jorgito.get_value()}\")"
      ],
      "metadata": {
        "colab": {
          "base_uri": "https://localhost:8080/"
        },
        "id": "dF75J05gKuu7",
        "outputId": "7e21f444-2008-4aee-d43e-3ddbe2401e05"
      },
      "execution_count": 42,
      "outputs": [
        {
          "output_type": "stream",
          "name": "stdout",
          "text": [
            "Perico is worth 150\n",
            "Jorgito is worth 225\n",
            "Perico is worth 30\n",
            "Jorgito is worth 45\n",
            "Perico is worth 70\n",
            "Jorgito is worth 45\n"
          ]
        }
      ]
    },
    {
      "cell_type": "markdown",
      "source": [
        "You can see that we can access the class variable thru the class name and also thru the instances, but the value affects all classes, not only the particular instance."
      ],
      "metadata": {
        "id": "PshhRMV3MD9U"
      }
    },
    {
      "cell_type": "markdown",
      "source": [
        "## Variables\n",
        "\n",
        "We already saw the definition of variables.\n",
        "You can see that there are instance specific variables, defined in the `__init__` method using `self.` and also class specific variables, defined directly in the class body.\n",
        "\n",
        "Python do no enforce visibility rules, so all members are public, which means that everynody can access them. But sometimes we prefer our users not to access some variable for whatever reason. That is usually done by preppending the variable name with a _single_ underscore. That means that the variable is not intended by general use. If you use it, chances are that some day it will break because the developer decided to use a different one, or the same with another purpose.\n",
        "Object names with double underscores (or dunders) are Python magic names/methods/variables and usually convey a very special meaning, like the `__init__` method, that is the method called by the Python runtime to construct an object. And it cannot be a different one."
      ],
      "metadata": {
        "id": "M64kWEXrM1eo"
      }
    },
    {
      "cell_type": "markdown",
      "source": [
        "## Methods\n",
        "\n",
        "We just saw a couple methods for the classes we defined (being methods the proper name for the functions that belong to a class).\n",
        "We have special methods (as all the names with double underscores or dunders) and standard methods. These standard methods can be instance specific, class specific or \"free\" methods that could be outside of the class.\n",
        "\n",
        "The instance methods are the more common and are defined as usual with the first parameter being `self`:\n",
        "```python\n",
        "def instance_method(self, param1, param2):...\n",
        "```\n",
        "\n",
        "The class methods are not so common and are defined using a decorator, `@classmethod`, with the first parameter being `cls`, that represents the class:\n",
        "```python\n",
        "@classmethod\n",
        "def class_method(cls, param1, param2):...\n",
        "```\n",
        "This allows us to perform things like creating a particular instance of that class using the parameters given:\n",
        "```python\n",
        "@classmethod\n",
        "def class_method(cls, param1, param2):\n",
        "  return cls(param1, param2 * 10)\n",
        "```\n",
        "\n",
        "Finally, the \"free\" methods are really called *static* methods. They do not need the class to work and are there because it make sense conceptually. They are defined using the decorator `@staticmethod`:\n",
        "```python\n",
        "@staticmethod\n",
        "def static_method(param1, param2):...\n",
        "```\n",
        "Here comes a real example defining al the three methods:"
      ],
      "metadata": {
        "id": "m1DALnV1MSQw"
      }
    },
    {
      "cell_type": "code",
      "source": [
        "class Pig(Animal):\n",
        "  price = 15\n",
        "\n",
        "  def instance_method(self):\n",
        "    return f\"Hello, I'm {self.name}\"\n",
        "\n",
        "  @classmethod\n",
        "  def class_method(cls):\n",
        "    # The following would fail:\n",
        "    # f\"Hello, I'm {cls.name}\"\n",
        "    return f\"I'm worth {cls.price}€/Kg\"\n",
        "\n",
        "  @staticmethod\n",
        "  def static_method(x, y):\n",
        "    return x * y\n",
        "\n",
        "perico = Pig(\"Perico\", 10)\n",
        "print(perico.instance_method())\n",
        "print(Pig.class_method())\n",
        "perico_value = Pig.static_method(perico.weigth, perico.price)\n",
        "print(f\"Perico value is {perico_value}\")"
      ],
      "metadata": {
        "colab": {
          "base_uri": "https://localhost:8080/"
        },
        "id": "jyLLNKx8PPmU",
        "outputId": "5151a7c9-308b-4284-a19d-0cb76e9c6af0"
      },
      "execution_count": 43,
      "outputs": [
        {
          "output_type": "stream",
          "name": "stdout",
          "text": [
            "Hello, I'm Perico\n",
            "I'm worth 15€/Kg\n",
            "Perico value is 150\n"
          ]
        }
      ]
    },
    {
      "cell_type": "markdown",
      "source": [
        "## Final toughts\n",
        "\n",
        "Classes allow us to process data in a more unified manner by giving us some properties.\n",
        "\n",
        "### Inheritance\n",
        "One class can inherit from another to extend its functionality.\n",
        "\n",
        "### Polimorphism\n",
        "A descendant of an ancestor class is also of the type of the ancestor class, so it can be used whenever an ancestor class is required.\n",
        "\n",
        "### Encapsulation\n",
        "Data and functionality are encapsulated inside the class. They travel together and work together. That simplifies the variable hell we started devising at the beginning.\n",
        "\n",
        "### Abstraction\n",
        "You can work with the classes as if they were the objects that they are representing. You can have a `Book` class and a method to `read` it. You can have an `Animal` an a method to `pet` it.\n",
        "Every time you give an `Animal` to someone, it goes with all its information and its abilities. Nobody needs to think about how to keep the information of an `Animal` or how to use it, as it is already implemented."
      ],
      "metadata": {
        "id": "qTUVmKHkQp9S"
      }
    }
  ]
}